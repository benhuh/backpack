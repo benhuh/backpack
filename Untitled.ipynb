{
 "cells": [
  {
   "cell_type": "code",
   "execution_count": 1,
   "metadata": {},
   "outputs": [],
   "source": [
    "# import backpack\n",
    "# import bpoptim\n",
    "# import bp_dops_integration"
   ]
  },
  {
   "cell_type": "code",
   "execution_count": 3,
   "metadata": {},
   "outputs": [],
   "source": [
    "!python3 KFRAConstantDampingOptimizer.py mnist_logreg  --lr 0.1 --damping 0.1 --random_seed 42 --output_dir ../grid_search  --batch_size 128"
   ]
  },
  {
   "cell_type": "code",
   "execution_count": null,
   "metadata": {},
   "outputs": [
    {
     "name": "stdout",
     "output_type": "stream",
     "text": [
      "[DEBUG] Optimizer parameter groups\n",
      "[DEBUG] Group 0:\n",
      "[DEBUG] \tparams: \n",
      "[DEBUG] \t(10, 784)\n",
      "[DEBUG] \t(10,)\n",
      "[DEBUG] \tweight_decay: 0.0\n",
      "[DEBUG] \tlr: 0.1\n",
      "[DEBUG] \tdamping: 0.1\n",
      "[DEBUG] End of optimizer parameter groups\n",
      "********************************\n",
      "Evaluating after 0 of 50 epochs...\n",
      "TRAIN: loss 2.30258, acc 0.104667\n",
      "VALID: loss 2.30258, acc 0.100661\n",
      "TEST: loss 2.30258, acc 0.098057\n",
      "********************************\n"
     ]
    }
   ],
   "source": [
    "!python3 experiments/grid_search_command_scripts/KFRA2ConstantDampingOptimizer.py mnist_logreg  --lr 0.1 --damping 0.1 --random_seed 42 --output_dir ../grid_search  --batch_size 128"
   ]
  },
  {
   "cell_type": "code",
   "execution_count": 8,
   "metadata": {},
   "outputs": [
    {
     "name": "stdout",
     "output_type": "stream",
     "text": [
      "/home/huh/Projects/backpack\n"
     ]
    }
   ],
   "source": [
    "!pwd"
   ]
  },
  {
   "cell_type": "code",
   "execution_count": null,
   "metadata": {},
   "outputs": [],
   "source": []
  }
 ],
 "metadata": {
  "kernelspec": {
   "display_name": "Python 3",
   "language": "python",
   "name": "python3"
  },
  "language_info": {
   "codemirror_mode": {
    "name": "ipython",
    "version": 3
   },
   "file_extension": ".py",
   "mimetype": "text/x-python",
   "name": "python",
   "nbconvert_exporter": "python",
   "pygments_lexer": "ipython3",
   "version": "3.7.6"
  }
 },
 "nbformat": 4,
 "nbformat_minor": 4
}
