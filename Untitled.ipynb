{
 "cells": [
  {
   "cell_type": "code",
   "execution_count": 1,
   "metadata": {},
   "outputs": [],
   "source": [
    "import backpack"
   ]
  },
  {
   "cell_type": "code",
   "execution_count": 2,
   "metadata": {},
   "outputs": [],
   "source": []
  },
  {
   "cell_type": "code",
   "execution_count": 3,
   "metadata": {},
   "outputs": [
    {
     "data": {
      "text/plain": [
       "['ConstantDampingOptimizer',\n",
       " 'DiagGGNConstantDampingOptimizer',\n",
       " 'DiagGGNExactCurvature',\n",
       " 'DiagGGNFancyDampingOptimizer',\n",
       " 'DiagGGNLMOptimizer',\n",
       " 'DiagGGNMCConstantDampingOptimizer',\n",
       " 'DiagGGNMCCurvature',\n",
       " 'DiagGGNMCFancyDampingOptimizer',\n",
       " 'DiagGGNMCLMOptimizer',\n",
       " 'FancyDampingOptimizer',\n",
       " 'KFAC2ConstantDampingOptimizer',\n",
       " 'KFAC2Curvature',\n",
       " 'KFACConstantDampingOptimizer',\n",
       " 'KFACCurvature',\n",
       " 'KFACFancyDampingOptimizer',\n",
       " 'KFACLMOptimizer',\n",
       " 'KFLR2ConstantDampingOptimizer',\n",
       " 'KFLR2Curvature',\n",
       " 'KFLRConstantDampingOptimizer',\n",
       " 'KFLRCurvature',\n",
       " 'KFLRFancyDampingOptimizer',\n",
       " 'KFLRLMOptimizer',\n",
       " 'KFRA2ConstantDampingOptimizer',\n",
       " 'KFRA2Curvature',\n",
       " 'KFRAConstantDampingOptimizer',\n",
       " 'KFRACurvature',\n",
       " 'KFRAFancyDampingOptimizer',\n",
       " 'KFRALMOptimizer',\n",
       " 'LMOptimizer',\n",
       " 'ZeroConstantDampingOptimizer',\n",
       " 'ZeroCurvature',\n",
       " 'ZeroFancyDampingOptimizer',\n",
       " 'ZeroLMOptimizer',\n",
       " '__builtins__',\n",
       " '__cached__',\n",
       " '__doc__',\n",
       " '__file__',\n",
       " '__loader__',\n",
       " '__name__',\n",
       " '__package__',\n",
       " '__path__',\n",
       " '__spec__',\n",
       " 'base_optimizer',\n",
       " 'constant_damping',\n",
       " 'curvature',\n",
       " 'fancy_damping',\n",
       " 'inverse_curvature',\n",
       " 'lm_damping',\n",
       " 'moving_average',\n",
       " 'utils']"
      ]
     },
     "execution_count": 3,
     "metadata": {},
     "output_type": "execute_result"
    }
   ],
   "source": [
    "dir(bpoptim)"
   ]
  },
  {
   "cell_type": "code",
   "execution_count": 4,
   "metadata": {},
   "outputs": [
    {
     "ename": "ModuleNotFoundError",
     "evalue": "No module named 'deepobs'",
     "output_type": "error",
     "traceback": [
      "\u001b[0;31m---------------------------------------------------------------------------\u001b[0m",
      "\u001b[0;31mModuleNotFoundError\u001b[0m                       Traceback (most recent call last)",
      "\u001b[0;32m<ipython-input-4-85e7c249fce6>\u001b[0m in \u001b[0;36m<module>\u001b[0;34m\u001b[0m\n\u001b[0;32m----> 1\u001b[0;31m \u001b[0;32mimport\u001b[0m \u001b[0mbp_dops_integration\u001b[0m\u001b[0;34m\u001b[0m\u001b[0;34m\u001b[0m\u001b[0m\n\u001b[0m",
      "\u001b[0;32m~/Projects/sNGD_projects/backpack/libraries/backpack-deepobs-integration/bp_dops_integration/__init__.py\u001b[0m in \u001b[0;36m<module>\u001b[0;34m\u001b[0m\n\u001b[0;32m----> 1\u001b[0;31m \u001b[0;32mfrom\u001b[0m \u001b[0;34m.\u001b[0m\u001b[0mextensions\u001b[0m \u001b[0;32mimport\u001b[0m \u001b[0mextend_deepobs_flatten\u001b[0m\u001b[0;34m\u001b[0m\u001b[0;34m\u001b[0m\u001b[0m\n\u001b[0m\u001b[1;32m      2\u001b[0m \u001b[0;34m\u001b[0m\u001b[0m\n\u001b[1;32m      3\u001b[0m \u001b[0mextend_deepobs_flatten\u001b[0m\u001b[0;34m(\u001b[0m\u001b[0;34m)\u001b[0m\u001b[0;34m\u001b[0m\u001b[0;34m\u001b[0m\u001b[0m\n",
      "\u001b[0;32m~/Projects/sNGD_projects/backpack/libraries/backpack-deepobs-integration/bp_dops_integration/extensions.py\u001b[0m in \u001b[0;36m<module>\u001b[0;34m\u001b[0m\n\u001b[1;32m      2\u001b[0m \u001b[0;32mfrom\u001b[0m \u001b[0mbackpack\u001b[0m\u001b[0;34m.\u001b[0m\u001b[0mextensions\u001b[0m \u001b[0;32mimport\u001b[0m \u001b[0mDiagGGN\u001b[0m\u001b[0;34m\u001b[0m\u001b[0;34m\u001b[0m\u001b[0m\n\u001b[1;32m      3\u001b[0m \u001b[0;32mfrom\u001b[0m \u001b[0mbackpack\u001b[0m\u001b[0;34m.\u001b[0m\u001b[0mextensions\u001b[0m\u001b[0;34m.\u001b[0m\u001b[0msecondorder\u001b[0m\u001b[0;34m.\u001b[0m\u001b[0mdiag_ggn\u001b[0m\u001b[0;34m.\u001b[0m\u001b[0mflatten\u001b[0m \u001b[0;32mimport\u001b[0m \u001b[0mDiagGGNFlatten\u001b[0m\u001b[0;34m\u001b[0m\u001b[0;34m\u001b[0m\u001b[0m\n\u001b[0;32m----> 4\u001b[0;31m \u001b[0;32mfrom\u001b[0m \u001b[0mdeepobs\u001b[0m\u001b[0;34m.\u001b[0m\u001b[0mpytorch\u001b[0m\u001b[0;34m.\u001b[0m\u001b[0mtestproblems\u001b[0m\u001b[0;34m.\u001b[0m\u001b[0mtestproblems_utils\u001b[0m \u001b[0;32mimport\u001b[0m \u001b[0mflatten\u001b[0m\u001b[0;34m\u001b[0m\u001b[0;34m\u001b[0m\u001b[0m\n\u001b[0m\u001b[1;32m      5\u001b[0m \u001b[0;34m\u001b[0m\u001b[0m\n\u001b[1;32m      6\u001b[0m \u001b[0;34m\u001b[0m\u001b[0m\n",
      "\u001b[0;31mModuleNotFoundError\u001b[0m: No module named 'deepobs'"
     ]
    }
   ],
   "source": [
    "import bp_dops_integration"
   ]
  },
  {
   "cell_type": "code",
   "execution_count": null,
   "metadata": {},
   "outputs": [],
   "source": []
  }
 ],
 "metadata": {
  "kernelspec": {
   "display_name": "Python 3.7.6 64-bit ('backpack': conda)",
   "language": "python",
   "name": "python37664bitbackpackcondab2d8ac08d968404180c6f48692f1de3a"
  },
  "language_info": {
   "codemirror_mode": {
    "name": "ipython",
    "version": 3
   },
   "file_extension": ".py",
   "mimetype": "text/x-python",
   "name": "python",
   "nbconvert_exporter": "python",
   "pygments_lexer": "ipython3",
   "version": "3.7.6"
  }
 },
 "nbformat": 4,
 "nbformat_minor": 2
}
